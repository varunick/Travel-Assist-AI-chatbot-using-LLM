{
 "cells": [
  {
   "cell_type": "markdown",
   "id": "90bb1e2a",
   "metadata": {
    "id": "90bb1e2a"
   },
   "source": [
    "# TravelAssist AI"
   ]
  },
  {
   "cell_type": "markdown",
   "id": "5bf1cc72",
   "metadata": {
    "id": "5bf1cc72"
   },
   "source": [
    "## Part 1: Introduction\n",
    "\n",
    "#### Project Background\n",
    "\n",
    "In today's busy and fast paced life, everyone wants a quick escape every now and then in form of a holiday. However, the overwhelming number of choices and the lack of personalized assistance can make the holiday planning daunting. To address this, we have developed **TravelAssist AI, a chatbot that combines the power of large language models and rule-based functions to ensure accurate and reliable information delivery**.\n",
    "\n",
    "\n",
    "#### Problem Statement\n",
    "\n",
    "*Given a dataset containing information about holiday packages (Package name, destination, No. of days, Sighseeing etc.), build a chatbot that parses the dataset and provides accurate holiday recommendations based on user requirements*.\n",
    "\n",
    "\n",
    "#### Dataset\n",
    "Data is gathered form Kaggle's make my trip dataset on holiday package from the follwing link: 'https://www.kaggle.com/datasets/promptcloud/travel-listing-from-makemytrip' \n",
    "\n",
    "Original dataset contained 30k rows, however for this problem statement this has been trimmed down to just 4 rows.\n",
    "\n",
    "\n",
    "\n",
    "\n"
   ]
  },
  {
   "cell_type": "markdown",
   "id": "81bc7e3b",
   "metadata": {
    "id": "81bc7e3b"
   },
   "source": [
    "#### Approach:\n",
    "\n",
    "1. **Conversation and Information Gathering**: The chatbot will utilize language models to understand and generate natural responses. Through a conversational flow, it will ask relevant questions to gather information about the user's requirements.\n",
    "2. **Information Extraction**: Once the essential information is collected, rule-based functions come into play, extracting relevant holiday packages that best matches the user's needs.\n",
    "3. **Personalized Recommendation**: Leveraging this extracted information, the chatbot engages in further dialogue with the user, efficiently addressing their queries and aiding them in answering any question related to the package."
   ]
  },
  {
   "cell_type": "markdown",
   "id": "5e7aada9",
   "metadata": {
    "id": "5e7aada9"
   },
   "source": [
    "## Part 2: System Design\n",
    "\n",
    "#### Dataset"
   ]
  },
  {
   "cell_type": "markdown",
   "id": "a43fb33e",
   "metadata": {
    "id": "a43fb33e"
   },
   "source": [
    "We have a dataset `HolidayData2.csv` where  each row describes the features of a holiday package. The chatbot that we build will leverage LLMs to converse with user to identify their specific needs and then recommend the matching holiday packages from the dataset"
   ]
  },
  {
   "cell_type": "markdown",
   "id": "281ca223",
   "metadata": {
    "id": "281ca223"
   },
   "source": [
    "#### Building the Chatbot\n",
    "\n",
    "Now let's go ahead and understand the system design for the chatbot.\n",
    "\n",
    "![Chatbot_sys_design.png](https://drive.google.com/uc?id=1j-mw_dNcbxGcelQ0PmkDB0nKOpauU1wX)"
   ]
  },
  {
   "cell_type": "markdown",
   "id": "51b581e9",
   "metadata": {
    "id": "51b581e9"
   },
   "source": [
    "As shown in the image, the chatbot contains the following layers:\n",
    "- Intent Clarity Layer\n",
    "- Intent Confirmation Layer\n",
    "- Product Mapping Layer\n",
    "- Product Information Extraction Layer\n",
    "- Product Recommendation Layer"
   ]
  },
  {
   "cell_type": "markdown",
   "id": "bbceebf1",
   "metadata": {
    "id": "bbceebf1"
   },
   "source": [
    "##### Major functions behind the Chatbot\n",
    "\n",
    "Let's now look at a brief overview of the major functions that form the chatbot. We'll take a deep dive later\n",
    "\n",
    "\n",
    "\n",
    "- `initialize_conversation()`: This initializes the variable conversation with the system message.\n",
    "- `get_chat_model_completions()`: This takes the ongoing conversation as the input and returns the response by the assistant\n",
    "- `moderation_check()`: This checks if the user's or the assistant's message is inappropriate. If any of these is inappropriate, it ends the conversation.\n",
    "- `intent_confirmation_layer()`: This function takes the assistant's response and evaluates if the chatbot has captured the user's profile clearly. Specifically, this checks if the following properties for the user has been captured or not 'Destination','Package','Origin','Duration','Budget'\n",
    "- `dictionary_present()`: This function checks if the final understanding of user's profile is returned by the chatbot as a python dictionary or not. If there is a dictionary, it extracts the information as a Python dictionary.\n",
    "- `compare_holiday_with_user()`: This function compares the user's requirements with the different holiday packages and come back with the top 3 recommendations.\n",
    "- `initialize_conv_reco()`: Initializes the recommendations conversation"
   ]
  },
  {
   "cell_type": "markdown",
   "id": "59bd717d",
   "metadata": {
    "id": "59bd717d"
   },
   "source": [
    "## Part 3: Implementation"
   ]
  },
  {
   "cell_type": "markdown",
   "id": "680b636d",
   "metadata": {
    "id": "680b636d"
   },
   "source": [
    "### 3.1 - Import the libraries\n",
    "\n",
    "Let's start by importing the libraries that we'll require for this project. Following are the ones:\n",
    "- openai\n",
    "- pandas\n",
    "- os, json, ast\n",
    "\n"
   ]
  },
  {
   "cell_type": "code",
   "execution_count": 348,
   "id": "65e05f4f",
   "metadata": {
    "id": "65e05f4f"
   },
   "outputs": [],
   "source": [
    "import os,json,ast\n",
    "import openai\n",
    "import pandas as pd"
   ]
  },
  {
   "cell_type": "code",
   "execution_count": 349,
   "id": "7c90af6c",
   "metadata": {
    "id": "7c90af6c"
   },
   "outputs": [],
   "source": [
    "# read the API key\n",
    "openai.api_key = open(\"API_Key_JS.txt\", \"r\").read().strip()"
   ]
  },
  {
   "cell_type": "markdown",
   "id": "f6597837",
   "metadata": {
    "id": "f6597837"
   },
   "source": [
    "### 3.2 - Implementing Intent Clarity and Intent Confirmation Layers\n",
    "\n",
    "Let's start with the first part of the implementation - building the `intent clarity` and `intent confirmation` layers. As mentioned earlier, this layer helps in identifying the user requirements and passing it on to the product matching layer. Here are the functions that we would be using for building these layers:\n",
    "\n",
    "- `initialize_conversation()`: This initializes the variable conversation with the system message. used prompt engineering and chain of thought reasoning, the function will enable the chatbot to keep asking questions until the user requirements have been captured in a dictionary. It also includes Few Shot Prompting(sample conversation between the user and assistant) to align the model about user and assistant responses at each step.\n"
   ]
  },
  {
   "cell_type": "code",
   "execution_count": 350,
   "id": "431f76f6",
   "metadata": {
    "id": "431f76f6"
   },
   "outputs": [],
   "source": [
    "def initialize_conversation():\n",
    "    '''\n",
    "    Returns a list [{\"role\": \"system\", \"content\": system_message}]\n",
    "    '''\n",
    "\n",
    "    delimiter = \"####\"\n",
    "    example_user_req = {'Destination': 'Manali','Package': 'Deluxe','Origin': 'New Delhi','Duration': '4','Budget': '15000 INR'}\n",
    "\n",
    "    system_message = f\"\"\"\n",
    "\n",
    "    You are an intelligent holiday planner and your goal is to find the best holiday package for a user.\n",
    "    You need to ask relevant questions and understand the user preferences by analysing the user's responses.\n",
    "    You final objective is to fill the values for the different keys ('Destination','Package','Origin','Duration','Budget') in the python dictionary and be confident of the values.\n",
    "    These key value pairs define the user's preference.\n",
    "    The python dictionary looks like this {{'Destination': 'values','Package': 'values','Origin': 'values','Duration': 'values','Budget': 'values'}}\n",
    "    \n",
    "    The value for all the keys should be extracted from the user's response.\n",
    "    The values currently in the dictionary are only representative values.\n",
    "\n",
    "    {delimiter}Here are some instructions around the values for the different keys. If you do not follow this, you'll be heavily penalised.\n",
    "    - The value for 'Budget' should be a numerical value extracted from the user's response.\n",
    "    - 'Budget' value needs to be greater than or equal to 6500 INR. If the user says less than that, please mention that there are no holiday packages in that range.\n",
    "    - The value for 'Duration' should be a numerical value extracted from the user's response.\n",
    "    - 'Origin' value can either be 'Mumbai' or 'New Delhi'. If the user mentions any other city, please mention that we are travel company dealing in holidays only from Mumbai and New Delhi\n",
    "    - For 'Package', give user the option whether they want to go for a 'Premium', 'Deluxe' , 'Luxury' or 'Standard' option.\n",
    "    - Do not randomly assign values to any of the keys. The values need to be inferred from the user's response.\n",
    "    {delimiter}\n",
    "\n",
    "    To fill the dictionary, you need to have the following chain of thoughts:\n",
    "    {delimiter} Thought 1: Ask a question to understand the user's preference for the holiday destination and number of nights. \\n\n",
    "    If their primary destination is unclear. Ask another question to comprehend their needs.\n",
    "    You are trying to fill the values of all the keys ('Destination','Package','Origin','Duration','Budget') in the python dictionary by understanding the user requirements.\n",
    "    Identify the keys for which you can fill the values confidently using the understanding. \\n\n",
    "    Remember the instructions around the values for the different keys.\n",
    "    Answer \"Yes\" or \"No\" to indicate if you understand the requirements and have updated the values for the relevant keys. \\n\n",
    "    If yes, proceed to the next step. Otherwise, rephrase the question to capture their requirements. \\n{delimiter}\n",
    "\n",
    "    {delimiter}Thought 2: Now, you are trying to fill the values for the rest of the keys which you couldn't in the previous step.\n",
    "    Remember the instructions around the values for the different keys. Ask questions you might have for all the keys to strengthen your understanding of the user's profile.\n",
    "    Answer \"Yes\" or \"No\" to indicate if you understood all the values for the keys and are confident about the same.\n",
    "    If yes, move to the next Thought. If no, ask question on the keys whose values you are unsure of. \\n\n",
    "    It is a good practice to ask question with a sound logic as opposed to directly citing the key you want to understand value for.{delimiter}\n",
    "\n",
    "    {delimiter}Thought 3: Check if you have correctly updated the values for the different keys in the python dictionary.\n",
    "    If you are not confident about any of the values, ask clarifying questions. {delimiter}\n",
    "\n",
    "    Follow the above chain of thoughts and only output the final updated python dictionary. \\n\n",
    "\n",
    "\n",
    "    {delimiter} Here is a sample conversation between the user and assistant:\n",
    "    User: \"Hi, I want to visit Manali.\"\n",
    "    Assistant: \"Great! For what duration would you like to visit Manali\"\n",
    "    User: \"I would like to visit for 4 nights.\"\n",
    "    Assistant: \"Thank you for providing that information. Which of the below package would you like to opt for:\n",
    "    Standard\n",
    "    Premium\n",
    "    Deluxe\n",
    "    Luxury\"\n",
    "    User: \"I would like to go with Deluxe\"\n",
    "    Assistant: \"Thank you for the information. Could you please let me know whether your origin city would be New Delhi or Mumbai?\"\n",
    "    User: \"i'll start from New Delhi\"\n",
    "    Assistant:\"Great, thanks. Could you kindly let me know your per person budget for the holiday package? This will help me find options that fit within your price range while meeting the specified requirements.\"\n",
    "    User: \"my max budget is 15000 inr\"\n",
    "    Assistant: \"{example_user_req}\"\n",
    "    {delimiter}\n",
    "\n",
    "    Start with a short welcome message and encourage the user to share their requirements.\n",
    "    \"\"\"\n",
    "    conversation = [{\"role\": \"system\", \"content\": system_message}]\n",
    "    return conversation"
   ]
  },
  {
   "cell_type": "code",
   "execution_count": 325,
   "id": "ae92d8e0",
   "metadata": {
    "id": "ae92d8e0",
    "outputId": "101bd0fa-c51d-4396-e305-1d30c4ba35ae",
    "scrolled": true
   },
   "outputs": [
    {
     "name": "stdout",
     "output_type": "stream",
     "text": [
      "[{'role': 'system', 'content': '\\n\\n    You are an intelligent holiday planner and your goal is to find the best holiday package for a user.\\n    You need to ask relevant questions and understand the user preferences by analysing the user\\'s responses.\\n    You final objective is to fill the values for the different keys (\\'Destination\\',\\'Package\\',\\'Origin\\',\\'Duration\\',\\'Budget\\') in the python dictionary and be confident of the values.\\n    These key value pairs define the user\\'s preference.\\n    The python dictionary looks like this {\\'Destination\\': \\'values\\',\\'Package\\': \\'values\\',\\'Origin\\': \\'values\\',\\'Duration\\': \\'values\\',\\'Budget\\': \\'values\\'}\\n    \\n    The value for all the keys should be extracted from the user\\'s response.\\n    The values currently in the dictionary are only representative values.\\n\\n    ####Here are some instructions around the values for the different keys. If you do not follow this, you\\'ll be heavily penalised.\\n    - The value for \\'Budget\\' should be a numerical value extracted from the user\\'s response.\\n    - \\'Budget\\' value needs to be greater than or equal to 1600 INR. If the user says less than that, please mention that there are no holiday packages in that range.\\n    - The value for \\'Duration\\' should be a numerical value extracted from the user\\'s response.\\n    - \\'Origin\\' value can either be \\'Mumbai\\' or \\'New Delhi\\'. If the user mentions any other city, please mention that we are travel company dealing in holidays only from Mumbai and New Delhi\\n    - For \\'Package\\', give user the option whether they want to go for a \\'Premium\\', \\'Deluxe\\' , \\'Luxury\\' or \\'Standard\\' option.\\n    - Do not randomly assign values to any of the keys. The values need to be inferred from the user\\'s response.\\n    ####\\n\\n    To fill the dictionary, you need to have the following chain of thoughts:\\n    #### Thought 1: Ask a question to understand the user\\'s preference for the holiday destination and number of nights. \\n\\n    If their primary destination is unclear. Ask another question to comprehend their needs.\\n    You are trying to fill the values of all the keys (\\'Destination\\',\\'Package\\',\\'Origin\\',\\'Duration\\',\\'Budget\\') in the python dictionary by understanding the user requirements.\\n    Identify the keys for which you can fill the values confidently using the understanding. \\n\\n    Remember the instructions around the values for the different keys.\\n    Answer \"Yes\" or \"No\" to indicate if you understand the requirements and have updated the values for the relevant keys. \\n\\n    If yes, proceed to the next step. Otherwise, rephrase the question to capture their requirements. \\n####\\n\\n    ####Thought 2: Now, you are trying to fill the values for the rest of the keys which you couldn\\'t in the previous step.\\n    Remember the instructions around the values for the different keys. Ask questions you might have for all the keys to strengthen your understanding of the user\\'s profile.\\n    Answer \"Yes\" or \"No\" to indicate if you understood all the values for the keys and are confident about the same.\\n    If yes, move to the next Thought. If no, ask question on the keys whose values you are unsure of. \\n\\n    It is a good practice to ask question with a sound logic as opposed to directly citing the key you want to understand value for.####\\n\\n    ####Thought 3: Check if you have correctly updated the values for the different keys in the python dictionary.\\n    If you are not confident about any of the values, ask clarifying questions. ####\\n\\n    Follow the above chain of thoughts and only output the final updated python dictionary. \\n\\n\\n\\n    #### Here is a sample conversation between the user and assistant:\\n    User: \"Hi, I want to visit Manali.\"\\n    Assistant: \"Great! For what duration would you like to visit Manali\"\\n    User: \"I would like to visit for 4 nights.\"\\n    Assistant: \"Thank you for providing that information. Which of the below package would you like to opt for:\\n    Standard\\n    Premium\\n    Deluxe\\n    Luxury\"\\n    User: \"I would like to go with Deluxe\"\\n    Assistant: \"Thank you for the information. Could you please let me know whether your origin city would be New Delhi or Mumbai?\"\\n    User: \"i\\'ll start from New Delhi\"\\n    Assistant:\"Great, thanks. Could you kindly let me know your per person budget for the holiday package? This will help me find options that fit within your price range while meeting the specified requirements.\"\\n    User: \"my max budget is 15000 inr\"\\n    Assistant: \"{\\'Destination\\': \\'Manali\\', \\'Package\\': \\'Deluxe\\', \\'Origin\\': \\'New Delhi\\', \\'Duration\\': \\'4\\', \\'Budget\\': \\'15000 INR\\'}\"\\n    ####\\n\\n    Start with a short welcome message and encourage the user to share their requirements.\\n    '}]\n"
     ]
    }
   ],
   "source": [
    "debug_conversation = initialize_conversation()\n",
    "print(debug_conversation)"
   ]
  },
  {
   "cell_type": "markdown",
   "id": "00f77346",
   "metadata": {
    "id": "00f77346"
   },
   "source": [
    "Building the next function\n",
    "- `get_chat_model_completions()`: This takes the ongoing conversation as the input and returns the response by the assistant"
   ]
  },
  {
   "cell_type": "code",
   "execution_count": null,
   "id": "2927b592",
   "metadata": {
    "id": "2927b592"
   },
   "outputs": [],
   "source": []
  },
  {
   "cell_type": "code",
   "execution_count": 351,
   "id": "2abb426e",
   "metadata": {
    "id": "2abb426e"
   },
   "outputs": [],
   "source": [
    "def get_chat_model_completions(messages):\n",
    "    response = openai.ChatCompletion.create(\n",
    "        model=\"gpt-3.5-turbo\",\n",
    "        messages=messages,\n",
    "        temperature=0, # this is the degree of randomness of the model's output\n",
    "        max_tokens = 2500\n",
    "    )\n",
    "    return response.choices[0].message[\"content\"]"
   ]
  },
  {
   "cell_type": "markdown",
   "id": "af181448",
   "metadata": {
    "id": "af181448"
   },
   "source": [
    "Let's pass the initialized conversation `debug_conversation` and see what is the assistant's response."
   ]
  },
  {
   "cell_type": "code",
   "execution_count": 327,
   "id": "350cfb8f",
   "metadata": {
    "id": "350cfb8f",
    "outputId": "54b9490a-baee-453b-b4b3-afc2a3a99e80",
    "scrolled": true
   },
   "outputs": [
    {
     "name": "stdout",
     "output_type": "stream",
     "text": [
      "Hello! Welcome to our holiday planning service. How can I assist you today?\n"
     ]
    }
   ],
   "source": [
    "debug_introduction = get_chat_model_completions(debug_conversation)\n",
    "print(debug_introduction)"
   ]
  },
  {
   "cell_type": "markdown",
   "id": "7dca90c2",
   "metadata": {
    "id": "7dca90c2"
   },
   "source": [
    "We can play around a bit and add the following user's input `debug_user_input` to the conversation `debug_conversation` and see what the assistant responds with."
   ]
  },
  {
   "cell_type": "code",
   "execution_count": 328,
   "id": "7fca12a4",
   "metadata": {
    "id": "7fca12a4"
   },
   "outputs": [],
   "source": [
    "debug_user_input = \"Hi, I am Anand. I want to visit Cochin.\""
   ]
  },
  {
   "cell_type": "code",
   "execution_count": 329,
   "id": "fdd0a9ed",
   "metadata": {
    "id": "fdd0a9ed",
    "outputId": "87c80cbb-f918-4c77-b58b-59cd63884a8d"
   },
   "outputs": [
    {
     "name": "stdout",
     "output_type": "stream",
     "text": [
      "Great! For what duration would you like to visit Cochin?\n"
     ]
    }
   ],
   "source": [
    "debug_conversation.append({\"role\": \"user\", \"content\": debug_user_input})\n",
    "debug_response_assistant = get_chat_model_completions(debug_conversation)\n",
    "print(debug_response_assistant)"
   ]
  },
  {
   "cell_type": "code",
   "execution_count": 330,
   "id": "2b974f5a",
   "metadata": {},
   "outputs": [],
   "source": [
    "debug_user_input = \"i would like to visit for 7 nights\""
   ]
  },
  {
   "cell_type": "code",
   "execution_count": 331,
   "id": "7d3d3baf",
   "metadata": {},
   "outputs": [
    {
     "name": "stdout",
     "output_type": "stream",
     "text": [
      "Thank you for providing that information. Which of the below package would you like to opt for:\n",
      "    Standard\n",
      "    Premium\n",
      "    Deluxe\n",
      "    Luxury\n"
     ]
    }
   ],
   "source": [
    "debug_conversation.append({\"role\": \"user\", \"content\": debug_user_input})\n",
    "debug_response_assistant = get_chat_model_completions(debug_conversation)\n",
    "print(debug_response_assistant)"
   ]
  },
  {
   "cell_type": "code",
   "execution_count": 332,
   "id": "1dd61775",
   "metadata": {},
   "outputs": [],
   "source": [
    "debug_user_input = \"i'd go with Standard\""
   ]
  },
  {
   "cell_type": "code",
   "execution_count": 333,
   "id": "94cea6d2",
   "metadata": {},
   "outputs": [
    {
     "name": "stdout",
     "output_type": "stream",
     "text": [
      "Thank you for providing that information. Could you please let me know whether your origin city would be New Delhi or Mumbai?\n"
     ]
    }
   ],
   "source": [
    "debug_conversation.append({\"role\": \"user\", \"content\": debug_user_input})\n",
    "debug_response_assistant = get_chat_model_completions(debug_conversation)\n",
    "print(debug_response_assistant)"
   ]
  },
  {
   "cell_type": "code",
   "execution_count": 334,
   "id": "e822aa18",
   "metadata": {},
   "outputs": [],
   "source": [
    "debug_user_input = \"Mumbai\""
   ]
  },
  {
   "cell_type": "code",
   "execution_count": 335,
   "id": "2628a095",
   "metadata": {},
   "outputs": [
    {
     "name": "stdout",
     "output_type": "stream",
     "text": [
      "Great, thanks for providing that information. Could you kindly let me know your per person budget for the holiday package? This will help me find options that fit within your price range while meeting the specified requirements.\n"
     ]
    }
   ],
   "source": [
    "debug_conversation.append({\"role\": \"user\", \"content\": debug_user_input})\n",
    "debug_response_assistant = get_chat_model_completions(debug_conversation)\n",
    "print(debug_response_assistant)"
   ]
  },
  {
   "cell_type": "code",
   "execution_count": 336,
   "id": "af362b99",
   "metadata": {},
   "outputs": [],
   "source": [
    "debug_user_input = 'my max budget is 36000 INR'"
   ]
  },
  {
   "cell_type": "code",
   "execution_count": 337,
   "id": "7adb856b",
   "metadata": {},
   "outputs": [
    {
     "name": "stdout",
     "output_type": "stream",
     "text": [
      "Great! For what duration would you like to visit Cochin?\n"
     ]
    }
   ],
   "source": [
    "debug_conversation.append({\"role\": \"user\", \"content\": debug_user_input})\n",
    "debug_response_assistant = get_chat_model_completions(debug_conversation)\n",
    "print(debug_response_assistant)"
   ]
  },
  {
   "cell_type": "markdown",
   "id": "389ae50b",
   "metadata": {
    "id": "389ae50b"
   },
   "source": [
    "Typically, whenever the chatbot is interacting with the user, all the conversations should be moderated to identify any inappropriate content. Let's look at the function that can help with it."
   ]
  },
  {
   "cell_type": "markdown",
   "id": "5cc13511",
   "metadata": {
    "id": "5cc13511"
   },
   "source": [
    "- `moderation_check()`: This checks if the user's or the assistant's message is inappropriate. If any of these is inappropriate, one can add a break statement to end the conversation."
   ]
  },
  {
   "cell_type": "code",
   "execution_count": 352,
   "id": "e5c799b4",
   "metadata": {
    "id": "e5c799b4"
   },
   "outputs": [],
   "source": [
    "def moderation_check(user_input):\n",
    "    response = openai.Moderation.create(input=user_input)\n",
    "    moderation_output = response[\"results\"][0]\n",
    "    if moderation_output[\"flagged\"] == True:\n",
    "        return \"Flagged\"\n",
    "    else:\n",
    "        return \"Not Flagged\""
   ]
  },
  {
   "cell_type": "markdown",
   "id": "8c9225ae",
   "metadata": {
    "id": "8c9225ae"
   },
   "source": [
    "Let's test moderation on the `debug_user_input`"
   ]
  },
  {
   "cell_type": "code",
   "execution_count": 37,
   "id": "86d12659",
   "metadata": {
    "id": "86d12659",
    "outputId": "1ce666c8-9452-4e46-a527-7ee323158d6f"
   },
   "outputs": [
    {
     "name": "stdout",
     "output_type": "stream",
     "text": [
      "Not Flagged\n"
     ]
    }
   ],
   "source": [
    "debug_moderation = moderation_check(debug_user_input)\n",
    "print(debug_moderation)"
   ]
  },
  {
   "cell_type": "markdown",
   "id": "f458b471",
   "metadata": {
    "id": "f458b471"
   },
   "source": [
    "Let's now test moderation on some other text."
   ]
  },
  {
   "cell_type": "markdown",
   "id": "ececb22e",
   "metadata": {
    "id": "ececb22e"
   },
   "source": [
    "Let's now check moderation on the assistant's response `debug_response_assistant`."
   ]
  },
  {
   "cell_type": "code",
   "execution_count": null,
   "id": "e289d1c1",
   "metadata": {
    "id": "e289d1c1",
    "outputId": "b470b9eb-a8cd-4644-c046-1ad54a304a80"
   },
   "outputs": [
    {
     "data": {
      "text/plain": [
       "'Not Flagged'"
      ]
     },
     "execution_count": 13,
     "metadata": {},
     "output_type": "execute_result"
    }
   ],
   "source": [
    "moderation_check(debug_response_assistant)"
   ]
  },
  {
   "cell_type": "markdown",
   "id": "543bca28",
   "metadata": {
    "id": "543bca28"
   },
   "source": [
    "- `intent_confirmation_layer()`: This function takes the assistant's response and evaluates if the chatbot has captured the user's profile clearly. Specifically, this checks if the following properties for the user has been captured or not\n",
    "   - Destination\n",
    "   - Package\n",
    "   - Origin\n",
    "   - Duration\n",
    "   - Budget"
   ]
  },
  {
   "cell_type": "code",
   "execution_count": 353,
   "id": "b6f4c3fb",
   "metadata": {
    "id": "b6f4c3fb"
   },
   "outputs": [],
   "source": [
    "def intent_confirmation_layer(response_assistant):\n",
    "    delimiter = \"####\"\n",
    "    prompt = f\"\"\"\n",
    "    You are a senior evaluator who has an eye for detail.\n",
    "    You are provided an input. You need to evaluate if the input has the following keys: 'Destination','Package','Origin','Duration','Budget'\n",
    "    Next you need to evaluate if the keys have the the values filled correctly.\n",
    "    - The value for the key 'Budget' needs to contain a number with currency.\n",
    "    - The value of key 'Package' needs to be either  'Premium', 'Deluxe' , 'Luxury' or 'Standard'\n",
    "    - The value of key 'Duration' needs to contain a number\n",
    "    - The value of key 'Origin' should either be 'New Delhi' or 'Mumbai'\n",
    "    Output a string 'Yes' if the input contains the dictionary with the values correctly filled for all keys.\n",
    "    Otherwise out the string 'No'.\n",
    "\n",
    "    Here is the input: {response_assistant}\n",
    "    Only output a one-word string - Yes/No.\n",
    "    \"\"\"\n",
    "\n",
    "\n",
    "    confirmation = openai.Completion.create(\n",
    "                                    model=\"text-davinci-003\",\n",
    "                                    prompt = prompt,\n",
    "                                    temperature=0)\n",
    "\n",
    "\n",
    "    return confirmation[\"choices\"][0][\"text\"]"
   ]
  },
  {
   "cell_type": "markdown",
   "id": "356fc469",
   "metadata": {
    "id": "356fc469"
   },
   "source": [
    "Let's apply the function to the assistant's reponse and see if it has captured the user profile."
   ]
  },
  {
   "cell_type": "code",
   "execution_count": 219,
   "id": "89031a63",
   "metadata": {
    "id": "89031a63",
    "outputId": "580ae934-3a77-43e5-a3f7-820c57e50f7c"
   },
   "outputs": [
    {
     "name": "stdout",
     "output_type": "stream",
     "text": [
      "\n",
      "No\n"
     ]
    }
   ],
   "source": [
    "debug_confirmation = intent_confirmation_layer(debug_response_assistant)\n",
    "print(debug_confirmation)"
   ]
  },
  {
   "cell_type": "markdown",
   "id": "4fc34f79",
   "metadata": {
    "id": "4fc34f79"
   },
   "source": [
    "Now, you can keep adding user and assistant responses to debug_conversation and get to a point where intent_confirmation_layer() \n"
   ]
  },
  {
   "cell_type": "markdown",
   "id": "8941aef4",
   "metadata": {
    "id": "8941aef4"
   },
   "source": [
    "- `dictionary_present()`: This function checks if the final understanding of user's profile is returned by the chatbot is a Python dictionary or not. This is important as it'll be used later on for finding the right holiday packages using dictionary matching."
   ]
  },
  {
   "cell_type": "code",
   "execution_count": 354,
   "id": "02fd17b7",
   "metadata": {
    "id": "02fd17b7"
   },
   "outputs": [],
   "source": [
    "def dictionary_present(response):\n",
    "    delimiter = \"####\"\n",
    "    user_req = {'Destination': 'Manali','Package': 'Deluxe','Origin': 'New Delhi','Duration': '4','Budget': '15000 INR'}\n",
    "    prompt = f\"\"\"You are a python expert. You are provided an input.\n",
    "            You have to check if there is a python dictionary present in the string.\n",
    "            It will have the following format {user_req}.\n",
    "            Your task is to just extract and return only the python dictionary from the input.\n",
    "            The output should match the format as {user_req}.\n",
    "            The output should contain the exact keys and values as present in the input.\n",
    "\n",
    "            Here are some sample input output pairs for better understanding:\n",
    "            {delimiter}\n",
    "            input: - Destination: Manali - Package: Luxury - Origin: Delhi - Duration: 4 - Budget: 50,000 INR\n",
    "            output: {{'Destination': 'Manali', 'Package': 'Luxury', 'Origin': 'New Delhi', 'Duration': '4', 'Budget': '50000'}}\n",
    "\n",
    "            input: {{'Destination':     'jaipur', 'Package':     'Standard', 'Origin':    'Mumbai', 'Duration': '4','Budget': '90,000'}}\n",
    "            output: {{'Destination': 'Jaipur', 'Package': 'Standard', 'Origin': 'Mumbai', 'Duration': '4', 'Budget': '90000'}}\n",
    "\n",
    "            input: Here is your user profile 'Destination': 'Ooty','Package': 'Deluxe','Origin': 'New Delhi','Duration': '5','Budget': '100000 INR'\n",
    "            output: {{'Destination': 'Ooty', 'Package': 'Deluxe', 'Origin': 'New Delhi', 'Duration': '5', 'Budget': '100000'}}\n",
    "            {delimiter}\n",
    "\n",
    "            Here is the input {response}\n",
    "\n",
    "            \"\"\"\n",
    "    response = openai.Completion.create(\n",
    "        model=\"text-davinci-003\",\n",
    "        prompt=prompt,\n",
    "        max_tokens = 2000\n",
    "        # temperature=0.3,\n",
    "        # top_p=0.4\n",
    "    )\n",
    "    return response[\"choices\"][0][\"text\"]"
   ]
  },
  {
   "cell_type": "markdown",
   "id": "01dd4ca1",
   "metadata": {
    "id": "01dd4ca1"
   },
   "source": [
    "Let's start by passing the `debug_response_assistant`."
   ]
  },
  {
   "cell_type": "code",
   "execution_count": 104,
   "id": "c9795d76",
   "metadata": {
    "id": "c9795d76",
    "outputId": "fea891f2-8036-4843-8cac-ce5b786f7604"
   },
   "outputs": [
    {
     "name": "stdout",
     "output_type": "stream",
     "text": [
      "\n",
      "            output: {'Destination': 'Jaipur', 'Package': 'Luxury', 'Origin': 'New Delhi', 'Duration': '4', 'Budget': '12000'}\n"
     ]
    }
   ],
   "source": [
    "response_dict_n = dictionary_present(debug_response_assistant)\n",
    "print(response_dict_n)"
   ]
  },
  {
   "cell_type": "markdown",
   "id": "95fe9455",
   "metadata": {
    "id": "95fe9455"
   },
   "source": [
    "What if you pass something like this where it is not in the form of a dictionary? Or some key or some values are missing? Let's see."
   ]
  },
  {
   "cell_type": "code",
   "execution_count": 355,
   "id": "706a8a28",
   "metadata": {
    "id": "706a8a28"
   },
   "outputs": [],
   "source": [
    "debug_response_assistant_n = f\"\"\"Thank you for providing your budget. Based on your budget of 50,000 INR, I will consider this while recommending suitable laptop options for you.\n",
    "Here is the final recommendation for your laptop:\n",
    "\n",
    "- Destination: Cochin\n",
    "- Package: Standard\n",
    "- Origin: Mumbai\n",
    "- Duration: 7\n",
    "- Budget: 80,000 INR\n",
    "\n",
    "Please note that these specifications are based on your requirements for surfing and a decent display within your budget. Let me know if there's anything else I can assist you with!\"\"\""
   ]
  },
  {
   "cell_type": "code",
   "execution_count": 356,
   "id": "79a1d0f5",
   "metadata": {
    "id": "79a1d0f5",
    "outputId": "cabbe2eb-59d7-4301-a5bb-d2b14c89d018",
    "scrolled": true
   },
   "outputs": [
    {
     "name": "stdout",
     "output_type": "stream",
     "text": [
      "\n",
      "Output: {'Destination': 'Cochin', 'Package': 'Standard', 'Origin': 'Mumbai', 'Duration': '7', 'Budget': '80000'}\n"
     ]
    }
   ],
   "source": [
    "response_dict_n = dictionary_present(debug_response_assistant_n)\n",
    "print(response_dict_n)"
   ]
  },
  {
   "cell_type": "markdown",
   "id": "af7ced9d",
   "metadata": {
    "id": "af7ced9d"
   },
   "source": [
    "### 3.3 Implementing the Product Mapping and Information Extraction Layers\n",
    "\n",
    "In this section, we take in the output of the previous layers, i.e. the user requirements, which is in the format of a Python dictionary, and extract the relevant holiday recommendations based on that. Here are the functions that we will use to help us implement the information extraction and product matching layers\n",
    "\n",
    "\n",
    "- `product_map_layer()`: This function is responsible for extracting key features and criteria from holiday package dataset. Here's a breakdown of how it works:\n",
    "    - Uses a prompt that assign it the role of a holiday expert, whose objective is to extract key features as per requirements\n",
    "    -  Assign specific rules for each feature.\n",
    "    - Includes Few Shot Prompting(sample conversation between the user and assistant) to demonstrate the expected result of the       feature extraction."
   ]
  },
  {
   "cell_type": "code",
   "execution_count": 357,
   "id": "89b5ad32",
   "metadata": {},
   "outputs": [],
   "source": [
    "def product_map_layer(Destination,Package,Origin,Duration):\n",
    "\n",
    "  delimiter = \"#####\"\n",
    "  holiday_spec = {\n",
    "      \"Destination\":\"(Holiday destination)\",\n",
    "      \"Package\":\"(Type of the holiday package)\",\n",
    "      \"Origin\":\"(Origin city of the holiday)\",\n",
    "      \"Duration\":\"(Maximum duration of the holiday)\"\n",
    "      \n",
    "  }\n",
    "\n",
    " \n",
    "  prompt=f\"\"\"\n",
    "  You are a Holiday expert whose job is to extract the key features of a holiday package as per their requirements.\n",
    "  Extract all the features above acccording to following rules: \\\n",
    "  {delimiter}\n",
    "  Destination: Extract the first word until you find '|'. If there is only one word, extract the same from {Destination}\n",
    "\n",
    "  Package: Extract the exact value from {Package} \n",
    "\n",
    "  Origin: Extract the exact value from {Origin}\n",
    "\n",
    "  Duration: Add all the numbers you find and output the sum from {Duration}\n",
    "\n",
    "  {delimiter}\n",
    "\n",
    "  {delimiter}\n",
    "  Here are some input output pairs for few-shot learning:\n",
    "  input1: \"Gangtok|Lachung|Gangtok|Darjeeling, Deluxe, New Delhi, 2N Gangtok . 2N Lachung . 1N Gangtok . 2N Darjeeling\"\n",
    "  output1: {{'Destination': 'Gangtok','Package':'Deluxe','Origin':'New Delhi','Duration':'7'}}\n",
    "\n",
    "  input2: \"Cochin|Munnar|Thekkady|Allepey|Kovalam and Poovar, Standard, Mumbai, 1N Cochin . 2N Munnar . 1N Thekkady . 1N Allepey . 2N Kovalam and Poovar\"\n",
    "  output2: {{'Destination': 'Cochin','Package':'Standard','Origin':'Mumbai','Duration':'7'}}\n",
    "\n",
    "  input3: \"Dharamshala, Deluxe, New Delhi, 3N Dharamshala\"\n",
    "  output3: {{'Destination': 'Dharamshala','Package':'Deluxe','Origin':'New Delhi','Duration':'3'}}\n",
    "  {delimiter}\n",
    "\n",
    "  Follow the above instructions step-by-step and output only the dictionary {holiday_spec} without any additional text for the following holiday package {Destination,Package,Origin,Duration}.\n",
    "  \"\"\"\n",
    "\n",
    "#see that we are using the Completion endpoint and not the Chatcompletion endpoint\n",
    "\n",
    "  response = openai.Completion.create(\n",
    "    model=\"text-davinci-003\",\n",
    "    prompt=prompt,\n",
    "    max_tokens = 2000,\n",
    "    # temperature=0.3,\n",
    "    # top_p=0.4\n",
    "    )\n",
    "  return response[\"choices\"][0][\"text\"]"
   ]
  },
  {
   "cell_type": "markdown",
   "id": "9dba56c9",
   "metadata": {
    "id": "9dba56c9"
   },
   "source": [
    "- `extract_dictionary_from_string()`: This function takes in the output of the previous layer and extracts the user requirements dictionary"
   ]
  },
  {
   "cell_type": "code",
   "execution_count": 358,
   "id": "a96ba79b",
   "metadata": {
    "id": "a96ba79b"
   },
   "outputs": [],
   "source": [
    "import ast\n",
    "import re\n",
    "\n",
    "def extract_dictionary_from_string(string):\n",
    "    regex_pattern = r\"\\{[^{}]+\\}\"\n",
    "\n",
    "    dictionary_matches = re.findall(regex_pattern, string)\n",
    "\n",
    "    # Extract the first dictionary match and convert it to lowercase\n",
    "    if dictionary_matches:\n",
    "        dictionary_string = dictionary_matches[0]\n",
    "        dictionary_string = dictionary_string.lower()\n",
    "\n",
    "        # Convert the dictionary string to a dictionary object using ast.literal_eval()\n",
    "        dictionary = ast.literal_eval(dictionary_string)\n",
    "    return dictionary"
   ]
  },
  {
   "cell_type": "markdown",
   "id": "3141b150",
   "metadata": {
    "id": "3141b150"
   },
   "source": [
    "- `compare_holiday_with_user()`: This function compares the user's profile with the different holiday packages and come back with the top  recommendations. It will perform the following steps:\n",
    "    - It will take the user requirements dictionary as input\n",
    "    - Filter the holidays based on their per person budget, keeping only the ones within the user's budget.\n",
    "    - Match the user requirement with holiday data.\n",
    "    - Return the matching holidays as a JSON-formatted string."
   ]
  },
  {
   "cell_type": "code",
   "execution_count": 370,
   "id": "e9346406",
   "metadata": {},
   "outputs": [],
   "source": [
    "def compare_holiday_with_user(user_req_string):\n",
    "    \n",
    "    holiday_df= pd.read_csv('HolidayData2.csv')\n",
    "\n",
    "    ## Create a new column \"holiday_feature\" that contains the dictionary of the product features\n",
    "    holiday_df['holiday_feature'] = holiday_df.apply(lambda x: product_map_layer(x['Destination'], x['Package Type'], x['Start City'], x['Itinerary']), axis = 1)\n",
    "    \n",
    "    #extract user requirements into a dictionary\n",
    "    user_requirements = extract_dictionary_from_string(user_req_string)\n",
    "    \n",
    "    #This line retrieves the value associated with the key 'budget' from the user_requirements dictionary.\n",
    "    #If the key is not found, the default value '0' is used.\n",
    "    #The value is then processed to remove commas, split it into a list of strings, and take the first element of the list.\n",
    "    #Finally, the resulting value is converted to an integer and assigned to the variable budget.\n",
    "    budget = int(user_requirements.get('budget', '0').replace(',', '').split()[0])\n",
    "    \n",
    "    \n",
    "    #filter filtered_holiday to include only rows where the 'Per Person Price' is less than or equal to the budget.\n",
    "    filtered_holiday = holiday_df.copy()\n",
    "    filtered_holiday = filtered_holiday[filtered_holiday['Per Person Price'] <= budget].copy()\n",
    "    \n",
    "    \n",
    "    #delete budget key from user requirements before comparing with holiday package\n",
    "    del user_requirements['budget']\n",
    "    \n",
    "    #extract holiday packages into a dictionary so that it can be compared with user requirements\n",
    "    filtered_holiday['holiday_feature'] = filtered_holiday['holiday_feature'].apply(lambda x: extract_dictionary_from_string(x))\n",
    "    \n",
    "    #comparison of user requirements with holiday packages and returning the matching rows from df\n",
    "    mask = filtered_holiday['holiday_feature'] .apply(lambda x: all(x[key] == user_requirements[key] for key in user_requirements))\n",
    "    result_df = filtered_holiday[mask]\n",
    "      \n",
    "    return result_df.to_json(orient='records')"
   ]
  },
  {
   "cell_type": "markdown",
   "id": "e1faebdc",
   "metadata": {
    "id": "e1faebdc"
   },
   "source": [
    "Now that you have the `compare_holiday_with_user()` function ready, let's pass the `response_dict_n` to the function to get relevant recommendation."
   ]
  },
  {
   "cell_type": "code",
   "execution_count": 360,
   "id": "c4d3ff4a",
   "metadata": {
    "id": "c4d3ff4a",
    "outputId": "6d66dc75-5eca-49f6-8ba9-bf6a178aabab"
   },
   "outputs": [
    {
     "name": "stdout",
     "output_type": "stream",
     "text": [
      "[{\"Uniq Id\":\"c782c902e6d370153361d708bb2bca64\",\"Crawl Timestamp\":\"2019-09-25 16:15:44 +0000\",\"Package Name\":\"A Relaxing holiday to Kerala - Free Speed Boat Ride\",\"Page Url\":\"https:\\/\\/holidayz.makemytrip.com\\/holidays\\/india\\/package?id=36501&depCityId=1268&listingClassId=8&depDateMilliSec=1569974400000\",\"Package Type\":\"Standard\",\"Company\":\"Makemytrip\",\"Destination\":\"Cochin|Munnar|Thekkady|Allepey|Kovalam and Poovar\",\"Itinerary\":\"1N Cochin . 2N Munnar . 1N Thekkady . 1N Allepey . 2N Kovalam and Poovar\",\"Places Covered\":\"Cochin|Munnar|Thekkady|Allepey|Kovalam and Poovar\",\"Travel Date\":\"02-10-2019\",\"Hotel Details\":\"Quality Airport Hotel:4.1|Hotel Hillview, Munnar - MMT Special:4.1|Elephant Route Resort:3.8|Camelot Hotel, Alleppey- MMT Holidays Special:|Sagara Beach Resort:\",\"Start City\":\"Mumbai\",\"Airline\":\"Spicejet|IndiGo\",\"Flight Stops\":null,\"Onwards Return Flight Time\":\"15 : 45-17 : 45|10 : 50-13 : 00\",\"Meals\":null,\"Price Per Two Persons\":\"32864\",\"Per Person Price\":16432,\"Sightseeing Places Covered\":\" Dutch Palace | Jewish Synagogue | St. Francis Church | Chinese Fishing Nets | Fort Cochin | Mattupetty Dam | Tata Tea Museum | Pothamedu View Point | Eravikulam national park | Echo Point | Lakkam Waterfalls | Speed Boat Ride at Mattupetty Dam and Drive to Top Station in Munnar | Kalari Show | Periyar wildlife Sanctuary \",\"Initial Payment For Booking\":null,\"Cancellation Rules\":\"Cancellation any time after making the 1st payment instalment till the 2nd payment date:The entire amount paid as 1st payment instalment (deposit) would be non-refundable.Cancellation after 2nd payment instalment and before 3rd or final payment date:The total amount that was due at the 2nd payment instalment as per your payment schedule would be non-refundable; anything that you have paid over and above this amount would be refundable.Cancellation after 3rd or final payment date:The full amount paid by you would be non-refundable.\",\"Date Change Rules\":null,\"holiday_feature\":{\"destination\":\"cochin\",\"package\":\"standard\",\"origin\":\"mumbai\",\"duration\":\"7\"}}]\n"
     ]
    }
   ],
   "source": [
    "recommended_holiday = compare_holiday_with_user(response_dict_n)\n",
    "print(recommended_holiday)"
   ]
  },
  {
   "cell_type": "markdown",
   "id": "f0e2eb10",
   "metadata": {
    "id": "f0e2eb10"
   },
   "source": [
    "### 3.4: Product Recommendation Layer\n",
    "\n",
    "Finally, we come to the product recommendation layer. It takes the output from the `compare_holiday_with_user` function in the previous layer and provides the recommendations to the user. It has the following steps.\n",
    "1. Initialize the conversation for recommendation.\n",
    "2. Generate the recommendations and display in a presentable format.\n",
    "3. Ask questions basis the recommendations.\n",
    "\n"
   ]
  },
  {
   "cell_type": "code",
   "execution_count": 361,
   "id": "6270ac40",
   "metadata": {
    "id": "6270ac40"
   },
   "outputs": [],
   "source": [
    "def initialize_conv_reco(products):\n",
    "    system_message = f\"\"\"\n",
    "    You are an intelligent holiday expert and you are tasked with the objective to \\\n",
    "    solve the user queries about any product from the catalogue: {products}.\\\n",
    "    You should keep the user requirements in mind while answering the questions.\\\n",
    "\n",
    "    Start with a brief summary of each holiday in the following format, in decreasing order of price per person:\n",
    "    1. <Holiday Name> : <Major attractions of the holiday>, <Price per person in Rs>\n",
    "    2. <Holiday Name> : <Major attractions of the holiday>, <Price per person in Rs>\n",
    "\n",
    "    \"\"\"\n",
    "    conversation = [{\"role\": \"system\", \"content\": system_message }]\n",
    "    return conversation"
   ]
  },
  {
   "cell_type": "markdown",
   "id": "e0a66294",
   "metadata": {
    "id": "e0a66294"
   },
   "source": [
    "Let's initialize the conversation for recommendation."
   ]
  },
  {
   "cell_type": "code",
   "execution_count": 362,
   "id": "bd95e8c5",
   "metadata": {
    "id": "bd95e8c5"
   },
   "outputs": [],
   "source": [
    "debug_conversation_reco = initialize_conv_reco(recommended_holiday)"
   ]
  },
  {
   "cell_type": "markdown",
   "id": "3789430c",
   "metadata": {
    "id": "3789430c"
   },
   "source": [
    "Let's see what the assistant responds with the new initialization."
   ]
  },
  {
   "cell_type": "code",
   "execution_count": 363,
   "id": "03d11a08",
   "metadata": {
    "id": "03d11a08",
    "outputId": "315d30de-f6c7-48cc-c174-3fedfd49cd6f"
   },
   "outputs": [
    {
     "name": "stdout",
     "output_type": "stream",
     "text": [
      "1. A Relaxing holiday to Kerala - Free Speed Boat Ride: Cochin|Munnar|Thekkady|Allepey|Kovalam and Poovar, Dutch Palace | Jewish Synagogue | St. Francis Church | Chinese Fishing Nets | Fort Cochin | Mattupetty Dam | Tata Tea Museum | Pothamedu View Point | Eravikulam national park | Echo Point | Lakkam Waterfalls | Speed Boat Ride at Mattupetty Dam and Drive to Top Station in Munnar | Kalari Show | Periyar wildlife Sanctuary, 16432 Rs per person\n",
      "\n",
      "Summary of the holiday:\n",
      "This holiday package offers a relaxing trip to Kerala with a free speed boat ride. The itinerary includes 1 night in Cochin, 2 nights in Munnar, 1 night in Thekkady, 1 night in Allepey, and 2 nights in Kovalam and Poovar. The major attractions covered in this package are Dutch Palace, Jewish Synagogue, St. Francis Church, Chinese Fishing Nets, Fort Cochin, Mattupetty Dam, Tata Tea Museum, Pothamedu View Point, Eravikulam National Park, Echo Point, Lakkam Waterfalls, Speed Boat Ride at Mattupetty Dam and Drive to Top Station in Munnar, Kalari Show, and Periyar Wildlife Sanctuary. The package starts from Mumbai and includes flights with Spicejet and IndiGo. The price per two persons is 32864 Rs, which translates to 16432 Rs per person. The initial payment for booking and meals are not specified. The cancellation rules state that the entire amount paid as the 1st payment installment (deposit) would be non-refundable if canceled any time after making the 1st payment installment till the 2nd payment date. If canceled after the 2nd payment installment and before the 3rd or final payment date, the total amount due at the 2nd payment installment would be non-refundable, while anything paid over this amount would be refundable. If canceled after the 3rd or final payment date, the full amount paid would be non-refundable. The date change rules are not specified.\n",
      "\n"
     ]
    }
   ],
   "source": [
    "debug_recommendation = get_chat_model_completions(debug_conversation_reco)\n",
    "print(debug_recommendation + '\\n')"
   ]
  },
  {
   "cell_type": "markdown",
   "id": "4ad208c0",
   "metadata": {
    "id": "4ad208c0"
   },
   "source": [
    "Now, you can converse with the chatbot on the filtered products."
   ]
  },
  {
   "cell_type": "code",
   "execution_count": 364,
   "id": "ad228dc6",
   "metadata": {
    "id": "ad228dc6"
   },
   "outputs": [],
   "source": [
    "#debug_conversation_reco.append({\"role\": \"user\", \"content\": \"This is my user profile\" + response_dict_n})\n",
    "debug_conversation_reco.append({\"role\": \"assistant\", \"content\": debug_recommendation})"
   ]
  },
  {
   "cell_type": "code",
   "execution_count": 365,
   "id": "d8735368",
   "metadata": {
    "id": "d8735368"
   },
   "outputs": [],
   "source": [
    "debug_user_input = \"Will it cover some adventure activities?\""
   ]
  },
  {
   "cell_type": "code",
   "execution_count": 366,
   "id": "8885e9fc",
   "metadata": {
    "id": "8885e9fc",
    "outputId": "ff9428bf-232a-497d-ae8a-9883f96a7ff5"
   },
   "outputs": [
    {
     "name": "stdout",
     "output_type": "stream",
     "text": [
      "\n",
      "Yes, this holiday package includes some adventure activities. One of the major attractions covered in the package is a Speed Boat Ride at Mattupetty Dam in Munnar. This activity offers an exciting and adventurous experience on the water. Additionally, the package also includes a visit to Periyar Wildlife Sanctuary in Thekkady, where you can enjoy wildlife safaris and explore the natural beauty of the sanctuary.\n",
      "\n"
     ]
    }
   ],
   "source": [
    "debug_conversation_reco.append({\"role\": \"user\", \"content\": debug_user_input})\n",
    "debug_response_asst_reco = get_chat_model_completions(debug_conversation_reco)\n",
    "print('\\n' + debug_response_asst_reco + '\\n')"
   ]
  },
  {
   "cell_type": "markdown",
   "id": "39df2113",
   "metadata": {
    "id": "39df2113"
   },
   "source": [
    "You can repeat the process of appending the assistant and user messages and test the chatbot out."
   ]
  },
  {
   "cell_type": "markdown",
   "id": "8156fc35",
   "metadata": {
    "id": "8156fc35"
   },
   "source": [
    "### 3.5 Dialogue Management System\n",
    "\n",
    "Bringing everything together, we create a `diagloue_mgmt_system()` function that contains the logic of how the different layers would interact with each other. This will be the function that we'll call to initiate the chatbot"
   ]
  },
  {
   "cell_type": "code",
   "execution_count": 321,
   "id": "53965d78",
   "metadata": {
    "id": "53965d78"
   },
   "outputs": [],
   "source": [
    "def dialogue_mgmt_system():\n",
    "    conversation = initialize_conversation()\n",
    "    introduction = get_chat_model_completions(conversation)\n",
    "    print(introduction + '\\n')\n",
    "    recommended_holiday = None\n",
    "    user_input = ''\n",
    "\n",
    "    while(user_input != \"exit\"):\n",
    "        user_input = input(\"\")\n",
    "\n",
    "        moderation = moderation_check(user_input)\n",
    "        if moderation == 'Flagged':\n",
    "            print(\"Sorry, this message has been flagged. Please restart your conversation.\")\n",
    "            break\n",
    "\n",
    "        if recommended_holiday is None:\n",
    "            conversation.append({\"role\": \"user\", \"content\": user_input})\n",
    "\n",
    "            response_assistant = get_chat_model_completions(conversation)\n",
    "\n",
    "            moderation = moderation_check(response_assistant)\n",
    "            if moderation == 'Flagged':\n",
    "                print(\"Sorry, this message has been flagged. Please restart your conversation.\")\n",
    "                break\n",
    "\n",
    "            confirmation = intent_confirmation_layer(response_assistant)\n",
    "\n",
    "            moderation = moderation_check(confirmation)\n",
    "            if moderation == 'Flagged':\n",
    "                print(\"Sorry, this message has been flagged. Please restart your conversation.\")\n",
    "                break\n",
    "\n",
    "            if \"No\" in confirmation:\n",
    "                conversation.append({\"role\": \"assistant\", \"content\": response_assistant})\n",
    "                print(\"\\n\" + response_assistant + \"\\n\")\n",
    "                print('\\n' + confirmation + '\\n')\n",
    "            else:\n",
    "                print(\"\\n\" + response_assistant + \"\\n\")\n",
    "                print('\\n' + confirmation + '\\n')\n",
    "                response = dictionary_present(response_assistant)\n",
    "\n",
    "                moderation = moderation_check(response)\n",
    "                if moderation == 'Flagged':\n",
    "                    print(\"Sorry, this message has been flagged. Please restart your conversation.\")\n",
    "                    break\n",
    "\n",
    "                print('\\n' + response + '\\n')\n",
    "                print(\"Thank you for providing all the information. Kindly wait, while I fetch the products: \\n\")\n",
    "                recommended_holiday = compare_holiday_with_user(response)\n",
    "\n",
    "                \n",
    "                conversation_reco = initialize_conv_reco(recommended_holiday)\n",
    "                recommendation = get_chat_model_completions(conversation_reco)\n",
    "\n",
    "                moderation = moderation_check(recommendation)\n",
    "                if moderation == 'Flagged':\n",
    "                    print(\"Sorry, this message has been flagged. Please restart your conversation.\")\n",
    "                    break\n",
    "\n",
    "                \n",
    "        else:\n",
    "            conversation_reco.append({\"role\": \"user\", \"content\": user_input})\n",
    "\n",
    "            response_asst_reco = get_chat_model_completions(conversation_reco)\n",
    "\n",
    "            moderation = moderation_check(response_asst_reco)\n",
    "            if moderation == 'Flagged':\n",
    "                print(\"Sorry, this message has been flagged. Please restart your conversation.\")\n",
    "                break\n",
    "\n",
    "            print('\\n' + response_asst_reco + '\\n')\n",
    "            conversation.append({\"role\": \"assistant\", \"content\": response_asst_reco})"
   ]
  },
  {
   "cell_type": "code",
   "execution_count": null,
   "id": "aa98299d",
   "metadata": {},
   "outputs": [],
   "source": [
    "dialogue_mgmt_system()"
   ]
  }
 ],
 "metadata": {
  "colab": {
   "provenance": []
  },
  "kernelspec": {
   "display_name": "Python 3",
   "language": "python",
   "name": "python3"
  },
  "language_info": {
   "codemirror_mode": {
    "name": "ipython",
    "version": 3
   },
   "file_extension": ".py",
   "mimetype": "text/x-python",
   "name": "python",
   "nbconvert_exporter": "python",
   "pygments_lexer": "ipython3",
   "version": "3.8.8"
  }
 },
 "nbformat": 4,
 "nbformat_minor": 5
}
